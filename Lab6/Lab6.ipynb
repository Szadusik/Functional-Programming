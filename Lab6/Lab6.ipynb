{
 "cells": [
  {
   "cell_type": "code",
   "execution_count": 5,
   "metadata": {},
   "outputs": [],
   "source": [
    "(<$<) :: (a -> b) -> a -> b\n",
    "(<$<) = ($)\n",
    "\n",
    "(>$>) :: a -> (a -> b) -> b\n",
    "x >$> f = f x\n",
    "infixl 0 >$>"
   ]
  },
  {
   "cell_type": "code",
   "execution_count": 6,
   "metadata": {},
   "outputs": [
    {
     "data": {
      "text/plain": [
       "3"
      ]
     },
     "metadata": {},
     "output_type": "display_data"
    },
    {
     "data": {
      "text/plain": [
       "3"
      ]
     },
     "metadata": {},
     "output_type": "display_data"
    }
   ],
   "source": [
    "(\\x -> 2 * x + 1) <$< 1\n",
    "1 >$> (\\x -> 2 * x + 1)"
   ]
  },
  {
   "cell_type": "code",
   "execution_count": 7,
   "metadata": {},
   "outputs": [],
   "source": [
    "(<.<) :: (b -> c) -> (a -> b) -> (a -> c)\n",
    "(<.<) = (.)\n",
    "\n",
    "(>.>) :: (a -> b) -> (b -> c) -> (a -> c)\n",
    "f >.> g = g . f\n",
    "infixl 9 >.>"
   ]
  },
  {
   "cell_type": "code",
   "execution_count": 8,
   "metadata": {},
   "outputs": [
    {
     "data": {
      "text/plain": [
       "17"
      ]
     },
     "metadata": {},
     "output_type": "display_data"
    },
    {
     "data": {
      "text/plain": [
       "21"
      ]
     },
     "metadata": {},
     "output_type": "display_data"
    },
    {
     "data": {
      "text/plain": [
       "17"
      ]
     },
     "metadata": {},
     "output_type": "display_data"
    },
    {
     "data": {
      "text/plain": [
       "21"
      ]
     },
     "metadata": {},
     "output_type": "display_data"
    },
    {
     "data": {
      "text/plain": [
       "15"
      ]
     },
     "metadata": {},
     "output_type": "display_data"
    }
   ],
   "source": [
    "(+2) <.< (*3) <$< 5\n",
    "(+2) >.> (*3) <$< 5\n",
    "\n",
    "5 >$> (+2) <.< (*3)\n",
    "5 >$> (+2) >.> (*3)\n",
    "\n",
    "3 >$> (+2) >$> (+10)"
   ]
  },
  {
   "cell_type": "code",
   "execution_count": 10,
   "metadata": {},
   "outputs": [
    {
     "data": {
      "text/plain": [
       "[2]"
      ]
     },
     "metadata": {},
     "output_type": "display_data"
    },
    {
     "ename": "",
     "evalue": "",
     "header": "MessageHeader {mhIdentifiers = [\"d5d986cf-398c-454f-8175-8a9e04d841e3\"], mhParentHeader = Just (MessageHeader {mhIdentifiers = [\"d5d986cf-398c-454f-8175-8a9e04d841e3\"], mhParentHeader = Nothing, mhMetadata = Metadata (fromList [(\"recordTiming\",Bool False),(\"deletedCells\",Array []),(\"cellId\",String \"435e92f5-ad16-4b29-9e0d-bae903a43824\")]), mhMessageId = UUID {uuidToString = \"9b0d5933-06f6-471e-97ae-ee1f4b82af4b\"}, mhSessionId = UUID {uuidToString = \"d5d986cf-398c-454f-8175-8a9e04d841e3\"}, mhUsername = \"\", mhMsgType = ExecuteRequestMessage, mhBuffers = []}), mhMetadata = Metadata (fromList []), mhMessageId = UUID {uuidToString = \"0e22b08e-8f4e-4c9a-9e2c-68f3797037c5\"}, mhSessionId = UUID {uuidToString = \"d5d986cf-398c-454f-8175-8a9e04d841e3\"}, mhUsername = \"\", mhMsgType = ExecuteErrorMessage, mhBuffers = []}",
     "output_type": "error",
     "traceback": [
      "Prelude.tail: empty list"
     ]
    }
   ],
   "source": [
    "tail [1,2]\n",
    "tail >.> tail >.> tail $ [1,2]"
   ]
  },
  {
   "cell_type": "code",
   "execution_count": 11,
   "metadata": {},
   "outputs": [],
   "source": [
    "safeTail :: [a] -> Maybe [a]\n",
    "safeTail []     = Nothing\n",
    "safeTail (x:xs) = Just xs"
   ]
  },
  {
   "cell_type": "code",
   "execution_count": 14,
   "metadata": {},
   "outputs": [
    {
     "data": {
      "text/plain": [
       "Just [2]"
      ]
     },
     "metadata": {},
     "output_type": "display_data"
    },
    {
     "data": {
      "text/plain": [
       "Nothing"
      ]
     },
     "metadata": {},
     "output_type": "display_data"
    },
    {
     "data": {
      "text/html": [
       "<style>/* Styles used for the Hoogle display in the pager */\n",
       ".hoogle-doc {\n",
       "display: block;\n",
       "padding-bottom: 1.3em;\n",
       "padding-left: 0.4em;\n",
       "}\n",
       ".hoogle-code {\n",
       "display: block;\n",
       "font-family: monospace;\n",
       "white-space: pre;\n",
       "}\n",
       ".hoogle-text {\n",
       "display: block;\n",
       "}\n",
       ".hoogle-name {\n",
       "color: green;\n",
       "font-weight: bold;\n",
       "}\n",
       ".hoogle-head {\n",
       "font-weight: bold;\n",
       "}\n",
       ".hoogle-sub {\n",
       "display: block;\n",
       "margin-left: 0.4em;\n",
       "}\n",
       ".hoogle-package {\n",
       "font-weight: bold;\n",
       "font-style: italic;\n",
       "}\n",
       ".hoogle-module {\n",
       "font-weight: bold;\n",
       "}\n",
       ".hoogle-class {\n",
       "font-weight: bold;\n",
       "}\n",
       ".get-type {\n",
       "color: green;\n",
       "font-weight: bold;\n",
       "font-family: monospace;\n",
       "display: block;\n",
       "white-space: pre-wrap;\n",
       "}\n",
       ".show-type {\n",
       "color: green;\n",
       "font-weight: bold;\n",
       "font-family: monospace;\n",
       "margin-left: 1em;\n",
       "}\n",
       ".mono {\n",
       "font-family: monospace;\n",
       "display: block;\n",
       "}\n",
       ".err-msg {\n",
       "color: red;\n",
       "font-style: italic;\n",
       "font-family: monospace;\n",
       "white-space: pre;\n",
       "display: block;\n",
       "}\n",
       "#unshowable {\n",
       "color: red;\n",
       "font-weight: bold;\n",
       "}\n",
       ".err-msg.in.collapse {\n",
       "padding-top: 0.7em;\n",
       "}\n",
       ".highlight-code {\n",
       "white-space: pre;\n",
       "font-family: monospace;\n",
       "}\n",
       ".suggestion-warning { \n",
       "font-weight: bold;\n",
       "color: rgb(200, 130, 0);\n",
       "}\n",
       ".suggestion-error { \n",
       "font-weight: bold;\n",
       "color: red;\n",
       "}\n",
       ".suggestion-name {\n",
       "font-weight: bold;\n",
       "}\n",
       "</style><span class='get-type'>safeTail :: forall a. [a] -> Maybe [a]</span>"
      ],
      "text/plain": [
       "safeTail :: forall a. [a] -> Maybe [a]"
      ]
     },
     "metadata": {},
     "output_type": "display_data"
    }
   ],
   "source": [
    "safeTail [1,2]\n",
    "safeTail []\n",
    "\n",
    "--safeTail >.> safeTail >.> safeTail <$< [1,2]\n",
    "--[1,2] >$> safeTail >.> safeTail >.> safeTail\n",
    "\n",
    ":t safeTail"
   ]
  },
  {
   "cell_type": "code",
   "execution_count": 15,
   "metadata": {},
   "outputs": [],
   "source": [
    "extractMaybe :: Maybe a -> a\n",
    "extractMaybe Nothing  = error \"Nothing inside!\"\n",
    "extractMaybe (Just x) = x"
   ]
  },
  {
   "cell_type": "code",
   "execution_count": 17,
   "metadata": {},
   "outputs": [
    {
     "data": {
      "text/plain": [
       "Just []"
      ]
     },
     "metadata": {},
     "output_type": "display_data"
    },
    {
     "data": {
      "text/plain": [
       "Nothing"
      ]
     },
     "metadata": {},
     "output_type": "display_data"
    },
    {
     "ename": "",
     "evalue": "",
     "header": "MessageHeader {mhIdentifiers = [\"d5d986cf-398c-454f-8175-8a9e04d841e3\"], mhParentHeader = Just (MessageHeader {mhIdentifiers = [\"d5d986cf-398c-454f-8175-8a9e04d841e3\"], mhParentHeader = Nothing, mhMetadata = Metadata (fromList [(\"recordTiming\",Bool False),(\"deletedCells\",Array []),(\"cellId\",String \"5865c6d3-0fee-4379-91ab-d66db62607aa\")]), mhMessageId = UUID {uuidToString = \"82d68399-5ead-49a7-a2a9-c3b8b136825e\"}, mhSessionId = UUID {uuidToString = \"d5d986cf-398c-454f-8175-8a9e04d841e3\"}, mhUsername = \"\", mhMsgType = ExecuteRequestMessage, mhBuffers = []}), mhMetadata = Metadata (fromList []), mhMessageId = UUID {uuidToString = \"708e83cf-e213-4319-9783-02f50c6777a3\"}, mhSessionId = UUID {uuidToString = \"d5d986cf-398c-454f-8175-8a9e04d841e3\"}, mhUsername = \"\", mhMsgType = ExecuteErrorMessage, mhBuffers = []}",
     "output_type": "error",
     "traceback": [
      "Nothing inside!\nCallStack (from HasCallStack):\n  error, called at <interactive>:2:25 in interactive:Ghci565"
     ]
    }
   ],
   "source": [
    "[1,2] >$> safeTail >.> extractMaybe >.> safeTail\n",
    "[1,2] >$> safeTail >.> extractMaybe >.> safeTail >.> extractMaybe >.> safeTail\n",
    "\n",
    "[1] >$> safeTail >.> extractMaybe >.> safeTail >.> extractMaybe >.> safeTail"
   ]
  },
  {
   "cell_type": "code",
   "execution_count": 18,
   "metadata": {},
   "outputs": [
    {
     "data": {
      "text/html": [
       "<style>/* Styles used for the Hoogle display in the pager */\n",
       ".hoogle-doc {\n",
       "display: block;\n",
       "padding-bottom: 1.3em;\n",
       "padding-left: 0.4em;\n",
       "}\n",
       ".hoogle-code {\n",
       "display: block;\n",
       "font-family: monospace;\n",
       "white-space: pre;\n",
       "}\n",
       ".hoogle-text {\n",
       "display: block;\n",
       "}\n",
       ".hoogle-name {\n",
       "color: green;\n",
       "font-weight: bold;\n",
       "}\n",
       ".hoogle-head {\n",
       "font-weight: bold;\n",
       "}\n",
       ".hoogle-sub {\n",
       "display: block;\n",
       "margin-left: 0.4em;\n",
       "}\n",
       ".hoogle-package {\n",
       "font-weight: bold;\n",
       "font-style: italic;\n",
       "}\n",
       ".hoogle-module {\n",
       "font-weight: bold;\n",
       "}\n",
       ".hoogle-class {\n",
       "font-weight: bold;\n",
       "}\n",
       ".get-type {\n",
       "color: green;\n",
       "font-weight: bold;\n",
       "font-family: monospace;\n",
       "display: block;\n",
       "white-space: pre-wrap;\n",
       "}\n",
       ".show-type {\n",
       "color: green;\n",
       "font-weight: bold;\n",
       "font-family: monospace;\n",
       "margin-left: 1em;\n",
       "}\n",
       ".mono {\n",
       "font-family: monospace;\n",
       "display: block;\n",
       "}\n",
       ".err-msg {\n",
       "color: red;\n",
       "font-style: italic;\n",
       "font-family: monospace;\n",
       "white-space: pre;\n",
       "display: block;\n",
       "}\n",
       "#unshowable {\n",
       "color: red;\n",
       "font-weight: bold;\n",
       "}\n",
       ".err-msg.in.collapse {\n",
       "padding-top: 0.7em;\n",
       "}\n",
       ".highlight-code {\n",
       "white-space: pre;\n",
       "font-family: monospace;\n",
       "}\n",
       ".suggestion-warning { \n",
       "font-weight: bold;\n",
       "color: rgb(200, 130, 0);\n",
       "}\n",
       ".suggestion-error { \n",
       "font-weight: bold;\n",
       "color: red;\n",
       "}\n",
       ".suggestion-name {\n",
       "font-weight: bold;\n",
       "}\n",
       "</style><div class=\"suggestion-name\" style=\"clear:both;\">Redundant bracket</div><div class=\"suggestion-row\" style=\"float: left;\"><div class=\"suggestion-warning\">Found:</div><div class=\"highlight-code\" id=\"haskell\">(extractMaybe ma) >\\$> f</div></div><div class=\"suggestion-row\" style=\"float: left;\"><div class=\"suggestion-warning\">Why Not:</div><div class=\"highlight-code\" id=\"haskell\">extractMaybe ma >\\$> f</div></div>"
      ],
      "text/plain": [
       "Line 6: Redundant bracket\n",
       "Found:\n",
       "(extractMaybe ma) >$> f\n",
       "Why not:\n",
       "extractMaybe ma >$> f"
      ]
     },
     "metadata": {},
     "output_type": "display_data"
    }
   ],
   "source": [
    "insertMaybe :: a -> Maybe a\n",
    "insertMaybe = Just\n",
    "\n",
    "-- (>^$>) = extract (^) and apply ($)\n",
    "(>^$>) :: Maybe a -> (a -> Maybe b) -> Maybe b\n",
    "ma >^$> f = (extractMaybe ma) >$> f\n",
    "infixl 1 >^$>"
   ]
  },
  {
   "cell_type": "code",
   "execution_count": 21,
   "metadata": {},
   "outputs": [
    {
     "data": {
      "text/plain": [
       "Just [1,2]"
      ]
     },
     "metadata": {},
     "output_type": "display_data"
    },
    {
     "data": {
      "text/plain": [
       "[1,2]"
      ]
     },
     "metadata": {},
     "output_type": "display_data"
    },
    {
     "data": {
      "text/html": [
       "<style>/* Styles used for the Hoogle display in the pager */\n",
       ".hoogle-doc {\n",
       "display: block;\n",
       "padding-bottom: 1.3em;\n",
       "padding-left: 0.4em;\n",
       "}\n",
       ".hoogle-code {\n",
       "display: block;\n",
       "font-family: monospace;\n",
       "white-space: pre;\n",
       "}\n",
       ".hoogle-text {\n",
       "display: block;\n",
       "}\n",
       ".hoogle-name {\n",
       "color: green;\n",
       "font-weight: bold;\n",
       "}\n",
       ".hoogle-head {\n",
       "font-weight: bold;\n",
       "}\n",
       ".hoogle-sub {\n",
       "display: block;\n",
       "margin-left: 0.4em;\n",
       "}\n",
       ".hoogle-package {\n",
       "font-weight: bold;\n",
       "font-style: italic;\n",
       "}\n",
       ".hoogle-module {\n",
       "font-weight: bold;\n",
       "}\n",
       ".hoogle-class {\n",
       "font-weight: bold;\n",
       "}\n",
       ".get-type {\n",
       "color: green;\n",
       "font-weight: bold;\n",
       "font-family: monospace;\n",
       "display: block;\n",
       "white-space: pre-wrap;\n",
       "}\n",
       ".show-type {\n",
       "color: green;\n",
       "font-weight: bold;\n",
       "font-family: monospace;\n",
       "margin-left: 1em;\n",
       "}\n",
       ".mono {\n",
       "font-family: monospace;\n",
       "display: block;\n",
       "}\n",
       ".err-msg {\n",
       "color: red;\n",
       "font-style: italic;\n",
       "font-family: monospace;\n",
       "white-space: pre;\n",
       "display: block;\n",
       "}\n",
       "#unshowable {\n",
       "color: red;\n",
       "font-weight: bold;\n",
       "}\n",
       ".err-msg.in.collapse {\n",
       "padding-top: 0.7em;\n",
       "}\n",
       ".highlight-code {\n",
       "white-space: pre;\n",
       "font-family: monospace;\n",
       "}\n",
       ".suggestion-warning { \n",
       "font-weight: bold;\n",
       "color: rgb(200, 130, 0);\n",
       "}\n",
       ".suggestion-error { \n",
       "font-weight: bold;\n",
       "color: red;\n",
       "}\n",
       ".suggestion-name {\n",
       "font-weight: bold;\n",
       "}\n",
       "</style><span class='get-type'>(>^$>) :: forall a b. Maybe a -> (a -> Maybe b) -> Maybe b</span>"
      ],
      "text/plain": [
       "(>^$>) :: forall a b. Maybe a -> (a -> Maybe b) -> Maybe b"
      ]
     },
     "metadata": {},
     "output_type": "display_data"
    },
    {
     "data": {
      "text/plain": [
       "Just [2]"
      ]
     },
     "metadata": {},
     "output_type": "display_data"
    },
    {
     "data": {
      "text/plain": [
       "Just []"
      ]
     },
     "metadata": {},
     "output_type": "display_data"
    },
    {
     "data": {
      "text/plain": [
       "Nothing"
      ]
     },
     "metadata": {},
     "output_type": "display_data"
    }
   ],
   "source": [
    "insertMaybe [1,2]\n",
    "[1,2] >$> insertMaybe >.> extractMaybe\n",
    "\n",
    "--[1,2] >^$> safeTail\n",
    ":t (>^$>)\n",
    "insertMaybe [1,2] >^$> safeTail\n",
    "insertMaybe [1,2] >^$> safeTail >^$> safeTail\n",
    "insertMaybe [1,2] >^$> safeTail >^$> safeTail >^$> safeTail\n",
    "--insertMaybe [1,2] >^$> safeTail >^$> safeTail >^$> safeTail >^$> safeTail"
   ]
  },
  {
   "cell_type": "code",
   "execution_count": 22,
   "metadata": {},
   "outputs": [],
   "source": [
    "(>^$>) :: Maybe a -> (a -> Maybe b) -> Maybe b\n",
    "Nothing  >^$> _ = Nothing\n",
    "(Just x) >^$> f = f x\n",
    "infixl 1 >^$>"
   ]
  },
  {
   "cell_type": "code",
   "execution_count": 23,
   "metadata": {},
   "outputs": [
    {
     "data": {
      "text/plain": [
       "Just [2]"
      ]
     },
     "metadata": {},
     "output_type": "display_data"
    },
    {
     "data": {
      "text/plain": [
       "Just []"
      ]
     },
     "metadata": {},
     "output_type": "display_data"
    },
    {
     "data": {
      "text/plain": [
       "Nothing"
      ]
     },
     "metadata": {},
     "output_type": "display_data"
    },
    {
     "data": {
      "text/plain": [
       "Nothing"
      ]
     },
     "metadata": {},
     "output_type": "display_data"
    }
   ],
   "source": [
    "insertMaybe [1,2] >^$> safeTail\n",
    "insertMaybe [1,2] >^$> safeTail >^$> safeTail\n",
    "insertMaybe [1,2] >^$> safeTail >^$> safeTail >^$> safeTail\n",
    "insertMaybe [1,2] >^$> safeTail >^$> safeTail >^$> safeTail >^$> safeTail"
   ]
  },
  {
   "cell_type": "code",
   "execution_count": 24,
   "metadata": {},
   "outputs": [
    {
     "data": {
      "text/html": [
       "<style>/* Styles used for the Hoogle display in the pager */\n",
       ".hoogle-doc {\n",
       "display: block;\n",
       "padding-bottom: 1.3em;\n",
       "padding-left: 0.4em;\n",
       "}\n",
       ".hoogle-code {\n",
       "display: block;\n",
       "font-family: monospace;\n",
       "white-space: pre;\n",
       "}\n",
       ".hoogle-text {\n",
       "display: block;\n",
       "}\n",
       ".hoogle-name {\n",
       "color: green;\n",
       "font-weight: bold;\n",
       "}\n",
       ".hoogle-head {\n",
       "font-weight: bold;\n",
       "}\n",
       ".hoogle-sub {\n",
       "display: block;\n",
       "margin-left: 0.4em;\n",
       "}\n",
       ".hoogle-package {\n",
       "font-weight: bold;\n",
       "font-style: italic;\n",
       "}\n",
       ".hoogle-module {\n",
       "font-weight: bold;\n",
       "}\n",
       ".hoogle-class {\n",
       "font-weight: bold;\n",
       "}\n",
       ".get-type {\n",
       "color: green;\n",
       "font-weight: bold;\n",
       "font-family: monospace;\n",
       "display: block;\n",
       "white-space: pre-wrap;\n",
       "}\n",
       ".show-type {\n",
       "color: green;\n",
       "font-weight: bold;\n",
       "font-family: monospace;\n",
       "margin-left: 1em;\n",
       "}\n",
       ".mono {\n",
       "font-family: monospace;\n",
       "display: block;\n",
       "}\n",
       ".err-msg {\n",
       "color: red;\n",
       "font-style: italic;\n",
       "font-family: monospace;\n",
       "white-space: pre;\n",
       "display: block;\n",
       "}\n",
       "#unshowable {\n",
       "color: red;\n",
       "font-weight: bold;\n",
       "}\n",
       ".err-msg.in.collapse {\n",
       "padding-top: 0.7em;\n",
       "}\n",
       ".highlight-code {\n",
       "white-space: pre;\n",
       "font-family: monospace;\n",
       "}\n",
       ".suggestion-warning { \n",
       "font-weight: bold;\n",
       "color: rgb(200, 130, 0);\n",
       "}\n",
       ".suggestion-error { \n",
       "font-weight: bold;\n",
       "color: red;\n",
       "}\n",
       ".suggestion-name {\n",
       "font-weight: bold;\n",
       "}\n",
       "</style><div class=\"suggestion-name\" style=\"clear:both;\">Avoid lambda</div><div class=\"suggestion-row\" style=\"float: left;\"><div class=\"suggestion-warning\">Found:</div><div class=\"highlight-code\" id=\"haskell\">\\ x -> g (extractMaybe (f x))</div></div><div class=\"suggestion-row\" style=\"float: left;\"><div class=\"suggestion-warning\">Why Not:</div><div class=\"highlight-code\" id=\"haskell\">g . extractMaybe . f</div></div>"
      ],
      "text/plain": [
       "Line 9: Avoid lambda\n",
       "Found:\n",
       "\\ x -> g (extractMaybe (f x))\n",
       "Why not:\n",
       "g . extractMaybe . f"
      ]
     },
     "metadata": {},
     "output_type": "display_data"
    }
   ],
   "source": [
    "f1 :: (Ord a, Num a) => a -> Maybe a\n",
    "f1 x = if x > 0 then Just (x + 1) else Nothing\n",
    "\n",
    "f2 :: (Eq a, Num a) => a -> Maybe a\n",
    "f2 x = if x /= 0 then Just (10 * x) else Nothing\n",
    "\n",
    "-- Kleisli composition\n",
    "(>.>>) :: (a -> Maybe b) -> (b -> Maybe c) -> (a -> Maybe c)\n",
    "f >.>> g = \\x -> g (extractMaybe (f x))"
   ]
  },
  {
   "cell_type": "code",
   "execution_count": 26,
   "metadata": {},
   "outputs": [
    {
     "data": {
      "text/html": [
       "<style>/* Styles used for the Hoogle display in the pager */\n",
       ".hoogle-doc {\n",
       "display: block;\n",
       "padding-bottom: 1.3em;\n",
       "padding-left: 0.4em;\n",
       "}\n",
       ".hoogle-code {\n",
       "display: block;\n",
       "font-family: monospace;\n",
       "white-space: pre;\n",
       "}\n",
       ".hoogle-text {\n",
       "display: block;\n",
       "}\n",
       ".hoogle-name {\n",
       "color: green;\n",
       "font-weight: bold;\n",
       "}\n",
       ".hoogle-head {\n",
       "font-weight: bold;\n",
       "}\n",
       ".hoogle-sub {\n",
       "display: block;\n",
       "margin-left: 0.4em;\n",
       "}\n",
       ".hoogle-package {\n",
       "font-weight: bold;\n",
       "font-style: italic;\n",
       "}\n",
       ".hoogle-module {\n",
       "font-weight: bold;\n",
       "}\n",
       ".hoogle-class {\n",
       "font-weight: bold;\n",
       "}\n",
       ".get-type {\n",
       "color: green;\n",
       "font-weight: bold;\n",
       "font-family: monospace;\n",
       "display: block;\n",
       "white-space: pre-wrap;\n",
       "}\n",
       ".show-type {\n",
       "color: green;\n",
       "font-weight: bold;\n",
       "font-family: monospace;\n",
       "margin-left: 1em;\n",
       "}\n",
       ".mono {\n",
       "font-family: monospace;\n",
       "display: block;\n",
       "}\n",
       ".err-msg {\n",
       "color: red;\n",
       "font-style: italic;\n",
       "font-family: monospace;\n",
       "white-space: pre;\n",
       "display: block;\n",
       "}\n",
       "#unshowable {\n",
       "color: red;\n",
       "font-weight: bold;\n",
       "}\n",
       ".err-msg.in.collapse {\n",
       "padding-top: 0.7em;\n",
       "}\n",
       ".highlight-code {\n",
       "white-space: pre;\n",
       "font-family: monospace;\n",
       "}\n",
       ".suggestion-warning { \n",
       "font-weight: bold;\n",
       "color: rgb(200, 130, 0);\n",
       "}\n",
       ".suggestion-error { \n",
       "font-weight: bold;\n",
       "color: red;\n",
       "}\n",
       ".suggestion-name {\n",
       "font-weight: bold;\n",
       "}\n",
       "</style><span class='get-type'>h :: forall c. (Ord c, Num c) => c -> Maybe c</span>"
      ],
      "text/plain": [
       "h :: forall c. (Ord c, Num c) => c -> Maybe c"
      ]
     },
     "metadata": {},
     "output_type": "display_data"
    },
    {
     "data": {
      "text/plain": [
       "Just 4"
      ]
     },
     "metadata": {},
     "output_type": "display_data"
    },
    {
     "data": {
      "text/plain": [
       "Just 30"
      ]
     },
     "metadata": {},
     "output_type": "display_data"
    },
    {
     "data": {
      "text/plain": [
       "Just 40"
      ]
     },
     "metadata": {},
     "output_type": "display_data"
    },
    {
     "data": {
      "text/html": [
       "<style>/* Styles used for the Hoogle display in the pager */\n",
       ".hoogle-doc {\n",
       "display: block;\n",
       "padding-bottom: 1.3em;\n",
       "padding-left: 0.4em;\n",
       "}\n",
       ".hoogle-code {\n",
       "display: block;\n",
       "font-family: monospace;\n",
       "white-space: pre;\n",
       "}\n",
       ".hoogle-text {\n",
       "display: block;\n",
       "}\n",
       ".hoogle-name {\n",
       "color: green;\n",
       "font-weight: bold;\n",
       "}\n",
       ".hoogle-head {\n",
       "font-weight: bold;\n",
       "}\n",
       ".hoogle-sub {\n",
       "display: block;\n",
       "margin-left: 0.4em;\n",
       "}\n",
       ".hoogle-package {\n",
       "font-weight: bold;\n",
       "font-style: italic;\n",
       "}\n",
       ".hoogle-module {\n",
       "font-weight: bold;\n",
       "}\n",
       ".hoogle-class {\n",
       "font-weight: bold;\n",
       "}\n",
       ".get-type {\n",
       "color: green;\n",
       "font-weight: bold;\n",
       "font-family: monospace;\n",
       "display: block;\n",
       "white-space: pre-wrap;\n",
       "}\n",
       ".show-type {\n",
       "color: green;\n",
       "font-weight: bold;\n",
       "font-family: monospace;\n",
       "margin-left: 1em;\n",
       "}\n",
       ".mono {\n",
       "font-family: monospace;\n",
       "display: block;\n",
       "}\n",
       ".err-msg {\n",
       "color: red;\n",
       "font-style: italic;\n",
       "font-family: monospace;\n",
       "white-space: pre;\n",
       "display: block;\n",
       "}\n",
       "#unshowable {\n",
       "color: red;\n",
       "font-weight: bold;\n",
       "}\n",
       ".err-msg.in.collapse {\n",
       "padding-top: 0.7em;\n",
       "}\n",
       ".highlight-code {\n",
       "white-space: pre;\n",
       "font-family: monospace;\n",
       "}\n",
       ".suggestion-warning { \n",
       "font-weight: bold;\n",
       "color: rgb(200, 130, 0);\n",
       "}\n",
       ".suggestion-error { \n",
       "font-weight: bold;\n",
       "color: red;\n",
       "}\n",
       ".suggestion-name {\n",
       "font-weight: bold;\n",
       "}\n",
       "</style><span class='get-type'>f3 :: forall a. Fractional a => a -> Maybe a</span>"
      ],
      "text/plain": [
       "f3 :: forall a. Fractional a => a -> Maybe a"
      ]
     },
     "metadata": {},
     "output_type": "display_data"
    },
    {
     "data": {
      "text/html": [
       "<style>/* Styles used for the Hoogle display in the pager */\n",
       ".hoogle-doc {\n",
       "display: block;\n",
       "padding-bottom: 1.3em;\n",
       "padding-left: 0.4em;\n",
       "}\n",
       ".hoogle-code {\n",
       "display: block;\n",
       "font-family: monospace;\n",
       "white-space: pre;\n",
       "}\n",
       ".hoogle-text {\n",
       "display: block;\n",
       "}\n",
       ".hoogle-name {\n",
       "color: green;\n",
       "font-weight: bold;\n",
       "}\n",
       ".hoogle-head {\n",
       "font-weight: bold;\n",
       "}\n",
       ".hoogle-sub {\n",
       "display: block;\n",
       "margin-left: 0.4em;\n",
       "}\n",
       ".hoogle-package {\n",
       "font-weight: bold;\n",
       "font-style: italic;\n",
       "}\n",
       ".hoogle-module {\n",
       "font-weight: bold;\n",
       "}\n",
       ".hoogle-class {\n",
       "font-weight: bold;\n",
       "}\n",
       ".get-type {\n",
       "color: green;\n",
       "font-weight: bold;\n",
       "font-family: monospace;\n",
       "display: block;\n",
       "white-space: pre-wrap;\n",
       "}\n",
       ".show-type {\n",
       "color: green;\n",
       "font-weight: bold;\n",
       "font-family: monospace;\n",
       "margin-left: 1em;\n",
       "}\n",
       ".mono {\n",
       "font-family: monospace;\n",
       "display: block;\n",
       "}\n",
       ".err-msg {\n",
       "color: red;\n",
       "font-style: italic;\n",
       "font-family: monospace;\n",
       "white-space: pre;\n",
       "display: block;\n",
       "}\n",
       "#unshowable {\n",
       "color: red;\n",
       "font-weight: bold;\n",
       "}\n",
       ".err-msg.in.collapse {\n",
       "padding-top: 0.7em;\n",
       "}\n",
       ".highlight-code {\n",
       "white-space: pre;\n",
       "font-family: monospace;\n",
       "}\n",
       ".suggestion-warning { \n",
       "font-weight: bold;\n",
       "color: rgb(200, 130, 0);\n",
       "}\n",
       ".suggestion-error { \n",
       "font-weight: bold;\n",
       "color: red;\n",
       "}\n",
       ".suggestion-name {\n",
       "font-weight: bold;\n",
       "}\n",
       "</style><span class='get-type'>f4 :: forall a. Num a => a -> Maybe a</span>"
      ],
      "text/plain": [
       "f4 :: forall a. Num a => a -> Maybe a"
      ]
     },
     "metadata": {},
     "output_type": "display_data"
    },
    {
     "data": {
      "text/html": [
       "<style>/* Styles used for the Hoogle display in the pager */\n",
       ".hoogle-doc {\n",
       "display: block;\n",
       "padding-bottom: 1.3em;\n",
       "padding-left: 0.4em;\n",
       "}\n",
       ".hoogle-code {\n",
       "display: block;\n",
       "font-family: monospace;\n",
       "white-space: pre;\n",
       "}\n",
       ".hoogle-text {\n",
       "display: block;\n",
       "}\n",
       ".hoogle-name {\n",
       "color: green;\n",
       "font-weight: bold;\n",
       "}\n",
       ".hoogle-head {\n",
       "font-weight: bold;\n",
       "}\n",
       ".hoogle-sub {\n",
       "display: block;\n",
       "margin-left: 0.4em;\n",
       "}\n",
       ".hoogle-package {\n",
       "font-weight: bold;\n",
       "font-style: italic;\n",
       "}\n",
       ".hoogle-module {\n",
       "font-weight: bold;\n",
       "}\n",
       ".hoogle-class {\n",
       "font-weight: bold;\n",
       "}\n",
       ".get-type {\n",
       "color: green;\n",
       "font-weight: bold;\n",
       "font-family: monospace;\n",
       "display: block;\n",
       "white-space: pre-wrap;\n",
       "}\n",
       ".show-type {\n",
       "color: green;\n",
       "font-weight: bold;\n",
       "font-family: monospace;\n",
       "margin-left: 1em;\n",
       "}\n",
       ".mono {\n",
       "font-family: monospace;\n",
       "display: block;\n",
       "}\n",
       ".err-msg {\n",
       "color: red;\n",
       "font-style: italic;\n",
       "font-family: monospace;\n",
       "white-space: pre;\n",
       "display: block;\n",
       "}\n",
       "#unshowable {\n",
       "color: red;\n",
       "font-weight: bold;\n",
       "}\n",
       ".err-msg.in.collapse {\n",
       "padding-top: 0.7em;\n",
       "}\n",
       ".highlight-code {\n",
       "white-space: pre;\n",
       "font-family: monospace;\n",
       "}\n",
       ".suggestion-warning { \n",
       "font-weight: bold;\n",
       "color: rgb(200, 130, 0);\n",
       "}\n",
       ".suggestion-error { \n",
       "font-weight: bold;\n",
       "color: red;\n",
       "}\n",
       ".suggestion-name {\n",
       "font-weight: bold;\n",
       "}\n",
       "</style><span class='get-type'>f34 :: forall c. Fractional c => c -> Maybe c</span>"
      ],
      "text/plain": [
       "f34 :: forall c. Fractional c => c -> Maybe c"
      ]
     },
     "metadata": {},
     "output_type": "display_data"
    },
    {
     "data": {
      "text/plain": [
       "Just 1.0"
      ]
     },
     "metadata": {},
     "output_type": "display_data"
    }
   ],
   "source": [
    "h = f1 >.>> f2\n",
    ":t h\n",
    "f1 3\n",
    "f2 3\n",
    "h 3\n",
    "\n",
    "let f3 x = Just (1/x)\n",
    "let f4 x = Just (2 * x)\n",
    ":t f3\n",
    ":t f4\n",
    "\n",
    "let f34 = f3 >.>> f4\n",
    ":t f34\n",
    "f34 2"
   ]
  },
  {
   "cell_type": "markdown",
   "metadata": {},
   "source": [
    "# Zadanie 1.1"
   ]
  },
  {
   "cell_type": "code",
   "execution_count": 27,
   "metadata": {},
   "outputs": [
    {
     "data": {
      "text/html": [
       "<style>/* Styles used for the Hoogle display in the pager */\n",
       ".hoogle-doc {\n",
       "display: block;\n",
       "padding-bottom: 1.3em;\n",
       "padding-left: 0.4em;\n",
       "}\n",
       ".hoogle-code {\n",
       "display: block;\n",
       "font-family: monospace;\n",
       "white-space: pre;\n",
       "}\n",
       ".hoogle-text {\n",
       "display: block;\n",
       "}\n",
       ".hoogle-name {\n",
       "color: green;\n",
       "font-weight: bold;\n",
       "}\n",
       ".hoogle-head {\n",
       "font-weight: bold;\n",
       "}\n",
       ".hoogle-sub {\n",
       "display: block;\n",
       "margin-left: 0.4em;\n",
       "}\n",
       ".hoogle-package {\n",
       "font-weight: bold;\n",
       "font-style: italic;\n",
       "}\n",
       ".hoogle-module {\n",
       "font-weight: bold;\n",
       "}\n",
       ".hoogle-class {\n",
       "font-weight: bold;\n",
       "}\n",
       ".get-type {\n",
       "color: green;\n",
       "font-weight: bold;\n",
       "font-family: monospace;\n",
       "display: block;\n",
       "white-space: pre-wrap;\n",
       "}\n",
       ".show-type {\n",
       "color: green;\n",
       "font-weight: bold;\n",
       "font-family: monospace;\n",
       "margin-left: 1em;\n",
       "}\n",
       ".mono {\n",
       "font-family: monospace;\n",
       "display: block;\n",
       "}\n",
       ".err-msg {\n",
       "color: red;\n",
       "font-style: italic;\n",
       "font-family: monospace;\n",
       "white-space: pre;\n",
       "display: block;\n",
       "}\n",
       "#unshowable {\n",
       "color: red;\n",
       "font-weight: bold;\n",
       "}\n",
       ".err-msg.in.collapse {\n",
       "padding-top: 0.7em;\n",
       "}\n",
       ".highlight-code {\n",
       "white-space: pre;\n",
       "font-family: monospace;\n",
       "}\n",
       ".suggestion-warning { \n",
       "font-weight: bold;\n",
       "color: rgb(200, 130, 0);\n",
       "}\n",
       ".suggestion-error { \n",
       "font-weight: bold;\n",
       "color: red;\n",
       "}\n",
       ".suggestion-name {\n",
       "font-weight: bold;\n",
       "}\n",
       "</style><div class=\"suggestion-name\" style=\"clear:both;\">Avoid lambda</div><div class=\"suggestion-row\" style=\"float: left;\"><div class=\"suggestion-warning\">Found:</div><div class=\"highlight-code\" id=\"haskell\">\\ x -> g (extractMaybe (f x))</div></div><div class=\"suggestion-row\" style=\"float: left;\"><div class=\"suggestion-warning\">Why Not:</div><div class=\"highlight-code\" id=\"haskell\">g . extractMaybe . f</div></div>"
      ],
      "text/plain": [
       "Line 1: Avoid lambda\n",
       "Found:\n",
       "\\ x -> g (extractMaybe (f x))\n",
       "Why not:\n",
       "g . extractMaybe . f"
      ]
     },
     "metadata": {},
     "output_type": "display_data"
    }
   ],
   "source": [
    "f >.>> g = \\x -> g (extractMaybe (f x))"
   ]
  },
  {
   "cell_type": "code",
   "execution_count": 31,
   "metadata": {},
   "outputs": [],
   "source": [
    "f >.>> g = \\x -> g >^$> f x"
   ]
  },
  {
   "cell_type": "markdown",
   "metadata": {},
   "source": [
    "# Zadanie 1.3"
   ]
  },
  {
   "cell_type": "markdown",
   "metadata": {},
   "source": [
    "Możliwe jest napisanie funkcji ExtractIO, która pozwala na uzyskanie IO zapakowane w monadę."
   ]
  },
  {
   "cell_type": "code",
   "execution_count": 33,
   "metadata": {},
   "outputs": [
    {
     "data": {},
     "metadata": {},
     "output_type": "display_data"
    },
    {
     "data": {
      "text/plain": [
       "Just 1"
      ]
     },
     "metadata": {},
     "output_type": "display_data"
    },
    {
     "data": {
      "text/html": [
       "<div style='background: rgb(247, 247, 247);'><form><textarea id='code'>data Maybe a = Nothing | Just a \t-- Defined in ‘GHC.Maybe’\n",
       "instance Functor Maybe -- Defined in ‘GHC.Base’\n",
       "instance Show a => Show (Maybe a) -- Defined in ‘GHC.Show’\n",
       "instance Semigroup a => Monoid (Maybe a) -- Defined in ‘GHC.Base’\n",
       "instance Semigroup a => Semigroup (Maybe a) -- Defined in ‘GHC.Base’\n",
       "instance Eq a => Eq (Maybe a) -- Defined in ‘GHC.Maybe’\n",
       "instance Ord a => Ord (Maybe a) -- Defined in ‘GHC.Maybe’\n",
       "instance Read a => Read (Maybe a) -- Defined in ‘GHC.Read’\n",
       "instance Applicative Maybe -- Defined in ‘GHC.Base’\n",
       "instance Monad Maybe -- Defined in ‘GHC.Base’\n",
       "instance Foldable Maybe -- Defined in ‘Data.Foldable’\n",
       "instance Traversable Maybe -- Defined in ‘Data.Traversable’\n",
       "</textarea></form></div><script>CodeMirror.fromTextArea(document.getElementById('code'), {mode: 'haskell', readOnly: 'nocursor'});</script>"
      ],
      "text/plain": [
       "data Maybe a = Nothing | Just a \t-- Defined in ‘GHC.Maybe’\n",
       "instance Functor Maybe -- Defined in ‘GHC.Base’\n",
       "instance Show a => Show (Maybe a) -- Defined in ‘GHC.Show’\n",
       "instance Semigroup a => Monoid (Maybe a) -- Defined in ‘GHC.Base’\n",
       "instance Semigroup a => Semigroup (Maybe a) -- Defined in ‘GHC.Base’\n",
       "instance Eq a => Eq (Maybe a) -- Defined in ‘GHC.Maybe’\n",
       "instance Ord a => Ord (Maybe a) -- Defined in ‘GHC.Maybe’\n",
       "instance Read a => Read (Maybe a) -- Defined in ‘GHC.Read’\n",
       "instance Applicative Maybe -- Defined in ‘GHC.Base’\n",
       "instance Monad Maybe -- Defined in ‘GHC.Base’\n",
       "instance Foldable Maybe -- Defined in ‘Data.Foldable’\n",
       "instance Traversable Maybe -- Defined in ‘Data.Traversable’"
      ]
     },
     "metadata": {},
     "output_type": "display_data"
    }
   ],
   "source": [
    ":i Maybe\n",
    "return 1 :: Maybe Int"
   ]
  },
  {
   "cell_type": "code",
   "execution_count": 34,
   "metadata": {},
   "outputs": [
    {
     "data": {},
     "metadata": {},
     "output_type": "display_data"
    },
    {
     "data": {
      "text/html": [
       "<div style='background: rgb(247, 247, 247);'><form><textarea id='code'>class Applicative m => Monad (m :: * -> *) where\n",
       "  (>>=) :: m a -> (a -> m b) -> m b\n",
       "  (>>) :: m a -> m b -> m b\n",
       "  return :: a -> m a\n",
       "  fail :: String -> m a\n",
       "  {-# MINIMAL (>>=) #-}\n",
       "  \t-- Defined in ‘GHC.Base’\n",
       "instance Monad (Either e) -- Defined in ‘Data.Either’\n",
       "instance Monad IHaskellTH.Q -- Defined in ‘Language.Haskell.TH.Syntax’\n",
       "instance Monad [] -- Defined in ‘GHC.Base’\n",
       "instance Monad Maybe -- Defined in ‘GHC.Base’\n",
       "instance Monad IO -- Defined in ‘GHC.Base’\n",
       "instance Monad ((->) r) -- Defined in ‘GHC.Base’\n",
       "instance Monoid a => Monad ((,) a) -- Defined in ‘GHC.Base’\n",
       "instance (Monoid a, Monoid b, Monoid c) => Monad ((,,,) a b c) -- Defined in ‘Data.Orphans’\n",
       "instance (Monoid a, Monoid b) => Monad ((,,) a b) -- Defined in ‘Data.Orphans’\n",
       "</textarea></form></div><script>CodeMirror.fromTextArea(document.getElementById('code'), {mode: 'haskell', readOnly: 'nocursor'});</script>"
      ],
      "text/plain": [
       "class Applicative m => Monad (m :: * -> *) where\n",
       "  (>>=) :: m a -> (a -> m b) -> m b\n",
       "  (>>) :: m a -> m b -> m b\n",
       "  return :: a -> m a\n",
       "  fail :: String -> m a\n",
       "  {-# MINIMAL (>>=) #-}\n",
       "  \t-- Defined in ‘GHC.Base’\n",
       "instance Monad (Either e) -- Defined in ‘Data.Either’\n",
       "instance Monad IHaskellTH.Q -- Defined in ‘Language.Haskell.TH.Syntax’\n",
       "instance Monad [] -- Defined in ‘GHC.Base’\n",
       "instance Monad Maybe -- Defined in ‘GHC.Base’\n",
       "instance Monad IO -- Defined in ‘GHC.Base’\n",
       "instance Monad ((->) r) -- Defined in ‘GHC.Base’\n",
       "instance Monoid a => Monad ((,) a) -- Defined in ‘GHC.Base’\n",
       "instance (Monoid a, Monoid b, Monoid c) => Monad ((,,,) a b c) -- Defined in ‘Data.Orphans’\n",
       "instance (Monoid a, Monoid b) => Monad ((,,) a b) -- Defined in ‘Data.Orphans’"
      ]
     },
     "metadata": {},
     "output_type": "display_data"
    }
   ],
   "source": [
    ":i Monad"
   ]
  },
  {
   "cell_type": "code",
   "execution_count": 36,
   "metadata": {},
   "outputs": [
    {
     "data": {
      "text/html": [
       "<style>/* Styles used for the Hoogle display in the pager */\n",
       ".hoogle-doc {\n",
       "display: block;\n",
       "padding-bottom: 1.3em;\n",
       "padding-left: 0.4em;\n",
       "}\n",
       ".hoogle-code {\n",
       "display: block;\n",
       "font-family: monospace;\n",
       "white-space: pre;\n",
       "}\n",
       ".hoogle-text {\n",
       "display: block;\n",
       "}\n",
       ".hoogle-name {\n",
       "color: green;\n",
       "font-weight: bold;\n",
       "}\n",
       ".hoogle-head {\n",
       "font-weight: bold;\n",
       "}\n",
       ".hoogle-sub {\n",
       "display: block;\n",
       "margin-left: 0.4em;\n",
       "}\n",
       ".hoogle-package {\n",
       "font-weight: bold;\n",
       "font-style: italic;\n",
       "}\n",
       ".hoogle-module {\n",
       "font-weight: bold;\n",
       "}\n",
       ".hoogle-class {\n",
       "font-weight: bold;\n",
       "}\n",
       ".get-type {\n",
       "color: green;\n",
       "font-weight: bold;\n",
       "font-family: monospace;\n",
       "display: block;\n",
       "white-space: pre-wrap;\n",
       "}\n",
       ".show-type {\n",
       "color: green;\n",
       "font-weight: bold;\n",
       "font-family: monospace;\n",
       "margin-left: 1em;\n",
       "}\n",
       ".mono {\n",
       "font-family: monospace;\n",
       "display: block;\n",
       "}\n",
       ".err-msg {\n",
       "color: red;\n",
       "font-style: italic;\n",
       "font-family: monospace;\n",
       "white-space: pre;\n",
       "display: block;\n",
       "}\n",
       "#unshowable {\n",
       "color: red;\n",
       "font-weight: bold;\n",
       "}\n",
       ".err-msg.in.collapse {\n",
       "padding-top: 0.7em;\n",
       "}\n",
       ".highlight-code {\n",
       "white-space: pre;\n",
       "font-family: monospace;\n",
       "}\n",
       ".suggestion-warning { \n",
       "font-weight: bold;\n",
       "color: rgb(200, 130, 0);\n",
       "}\n",
       ".suggestion-error { \n",
       "font-weight: bold;\n",
       "color: red;\n",
       "}\n",
       ".suggestion-name {\n",
       "font-weight: bold;\n",
       "}\n",
       "</style><span class='get-type'>(>=>) :: forall (m :: * -> *) a b c. Monad m => (a -> m b) -> (b -> m c) -> a -> m c</span>"
      ],
      "text/plain": [
       "(>=>) :: forall (m :: * -> *) a b c. Monad m => (a -> m b) -> (b -> m c) -> a -> m c"
      ]
     },
     "metadata": {},
     "output_type": "display_data"
    }
   ],
   "source": [
    "import Control.Monad\n",
    ":t (>=>)"
   ]
  },
  {
   "cell_type": "code",
   "execution_count": 37,
   "metadata": {},
   "outputs": [
    {
     "data": {
      "text/plain": [
       "Just [1,2]"
      ]
     },
     "metadata": {},
     "output_type": "display_data"
    },
    {
     "data": {
      "text/plain": [
       "Just [1,2]"
      ]
     },
     "metadata": {},
     "output_type": "display_data"
    },
    {
     "data": {
      "text/plain": [
       "[1,2]"
      ]
     },
     "metadata": {},
     "output_type": "display_data"
    },
    {
     "data": {
      "text/plain": [
       "Just [1,2]"
      ]
     },
     "metadata": {},
     "output_type": "display_data"
    },
    {
     "data": {
      "text/plain": [
       "Just [2]"
      ]
     },
     "metadata": {},
     "output_type": "display_data"
    },
    {
     "data": {
      "text/plain": [
       "Just [2]"
      ]
     },
     "metadata": {},
     "output_type": "display_data"
    },
    {
     "data": {
      "text/plain": [
       "True"
      ]
     },
     "metadata": {},
     "output_type": "display_data"
    },
    {
     "data": {
      "text/plain": [
       "Nothing"
      ]
     },
     "metadata": {},
     "output_type": "display_data"
    },
    {
     "data": {
      "text/plain": [
       "Nothing"
      ]
     },
     "metadata": {},
     "output_type": "display_data"
    },
    {
     "data": {
      "text/plain": [
       "Nothing"
      ]
     },
     "metadata": {},
     "output_type": "display_data"
    },
    {
     "data": {
      "text/plain": [
       "Nothing"
      ]
     },
     "metadata": {},
     "output_type": "display_data"
    },
    {
     "data": {
      "text/plain": [
       "Nothing"
      ]
     },
     "metadata": {},
     "output_type": "display_data"
    }
   ],
   "source": [
    "insertMaybe [1,2]\n",
    "return (Just [1,2])\n",
    "return [1,2]\n",
    "return [1,2] :: Maybe [Int]\n",
    "\n",
    "insertMaybe [1,2] >^$> safeTail\n",
    "return [1,2] >>= safeTail\n",
    "(return [1,2] >>= safeTail) == (insertMaybe [1,2] >^$> safeTail)\n",
    "\n",
    "insertMaybe [1,2] >^$> safeTail >^$> safeTail >^$> safeTail >^$> safeTail\n",
    "return [1,2] >>= safeTail >>= safeTail >>= safeTail >>= safeTail\n",
    "\n",
    "return [1,2] >^$> safeTail >^$> safeTail >^$> safeTail >^$> safeTail\n",
    "insertMaybe [1,2] >>= safeTail >^$> safeTail >>= safeTail >^$> safeTail\n",
    "return [1,2] >^$> safeTail >>= safeTail >^$> safeTail >>= safeTail\n",
    "\n"
   ]
  },
  {
   "cell_type": "code",
   "execution_count": 38,
   "metadata": {},
   "outputs": [
    {
     "data": {
      "text/html": [
       "<style>/* Styles used for the Hoogle display in the pager */\n",
       ".hoogle-doc {\n",
       "display: block;\n",
       "padding-bottom: 1.3em;\n",
       "padding-left: 0.4em;\n",
       "}\n",
       ".hoogle-code {\n",
       "display: block;\n",
       "font-family: monospace;\n",
       "white-space: pre;\n",
       "}\n",
       ".hoogle-text {\n",
       "display: block;\n",
       "}\n",
       ".hoogle-name {\n",
       "color: green;\n",
       "font-weight: bold;\n",
       "}\n",
       ".hoogle-head {\n",
       "font-weight: bold;\n",
       "}\n",
       ".hoogle-sub {\n",
       "display: block;\n",
       "margin-left: 0.4em;\n",
       "}\n",
       ".hoogle-package {\n",
       "font-weight: bold;\n",
       "font-style: italic;\n",
       "}\n",
       ".hoogle-module {\n",
       "font-weight: bold;\n",
       "}\n",
       ".hoogle-class {\n",
       "font-weight: bold;\n",
       "}\n",
       ".get-type {\n",
       "color: green;\n",
       "font-weight: bold;\n",
       "font-family: monospace;\n",
       "display: block;\n",
       "white-space: pre-wrap;\n",
       "}\n",
       ".show-type {\n",
       "color: green;\n",
       "font-weight: bold;\n",
       "font-family: monospace;\n",
       "margin-left: 1em;\n",
       "}\n",
       ".mono {\n",
       "font-family: monospace;\n",
       "display: block;\n",
       "}\n",
       ".err-msg {\n",
       "color: red;\n",
       "font-style: italic;\n",
       "font-family: monospace;\n",
       "white-space: pre;\n",
       "display: block;\n",
       "}\n",
       "#unshowable {\n",
       "color: red;\n",
       "font-weight: bold;\n",
       "}\n",
       ".err-msg.in.collapse {\n",
       "padding-top: 0.7em;\n",
       "}\n",
       ".highlight-code {\n",
       "white-space: pre;\n",
       "font-family: monospace;\n",
       "}\n",
       ".suggestion-warning { \n",
       "font-weight: bold;\n",
       "color: rgb(200, 130, 0);\n",
       "}\n",
       ".suggestion-error { \n",
       "font-weight: bold;\n",
       "color: red;\n",
       "}\n",
       ".suggestion-name {\n",
       "font-weight: bold;\n",
       "}\n",
       "</style><div class=\"suggestion-name\" style=\"clear:both;\">Redundant return</div><div class=\"suggestion-row\" style=\"float: left;\"><div class=\"suggestion-warning\">Found:</div><div class=\"highlight-code\" id=\"haskell\">do t1 <- safeTail xs\n",
       "   t2 <- safeTail t1\n",
       "   t3 <- safeTail t2\n",
       "   return t3</div></div><div class=\"suggestion-row\" style=\"float: left;\"><div class=\"suggestion-warning\">Why Not:</div><div class=\"highlight-code\" id=\"haskell\">do t1 <- safeTail xs\n",
       "   t2 <- safeTail t1\n",
       "   safeTail t2</div></div><div class=\"suggestion-name\" style=\"clear:both;\">Use >=></div><div class=\"suggestion-row\" style=\"float: left;\"><div class=\"suggestion-warning\">Found:</div><div class=\"highlight-code\" id=\"haskell\">\\ t1 -> safeTail t1 >>= \\ t2 -> safeTail t2 >>= \\ t3 -> return t3</div></div><div class=\"suggestion-row\" style=\"float: left;\"><div class=\"suggestion-warning\">Why Not:</div><div class=\"highlight-code\" id=\"haskell\">(safeTail Control.Monad.>=>\n",
       "   (\\ t2 -> safeTail t2 >>= \\ t3 -> return t3))</div></div><div class=\"suggestion-name\" style=\"clear:both;\">Use >=></div><div class=\"suggestion-row\" style=\"float: left;\"><div class=\"suggestion-warning\">Found:</div><div class=\"highlight-code\" id=\"haskell\">\\ t2 -> safeTail t2 >>= \\ t3 -> return t3</div></div><div class=\"suggestion-row\" style=\"float: left;\"><div class=\"suggestion-warning\">Why Not:</div><div class=\"highlight-code\" id=\"haskell\">(safeTail Control.Monad.>=> (\\ t3 -> return t3))</div></div><div class=\"suggestion-name\" style=\"clear:both;\">Monad law, left identity</div><div class=\"suggestion-row\" style=\"float: left;\"><div class=\"suggestion-warning\">Found:</div><div class=\"highlight-code\" id=\"haskell\">return xs >>= safeTail</div></div><div class=\"suggestion-row\" style=\"float: left;\"><div class=\"suggestion-warning\">Why Not:</div><div class=\"highlight-code\" id=\"haskell\">safeTail xs</div></div>"
      ],
      "text/plain": [
       "Line 2: Redundant return\n",
       "Found:\n",
       "do t1 <- safeTail xs\n",
       "   t2 <- safeTail t1\n",
       "   t3 <- safeTail t2\n",
       "   return t3\n",
       "Why not:\n",
       "do t1 <- safeTail xs\n",
       "   t2 <- safeTail t1\n",
       "   safeTail t2Line 10: Use >=>\n",
       "Found:\n",
       "\\ t1 -> safeTail t1 >>= \\ t2 -> safeTail t2 >>= \\ t3 -> return t3\n",
       "Why not:\n",
       "(safeTail Control.Monad.>=>\n",
       "   (\\ t2 -> safeTail t2 >>= \\ t3 -> return t3))Line 11: Use >=>\n",
       "Found:\n",
       "\\ t2 -> safeTail t2 >>= \\ t3 -> return t3\n",
       "Why not:\n",
       "(safeTail Control.Monad.>=> (\\ t3 -> return t3))Line 16: Monad law, left identity\n",
       "Found:\n",
       "return xs >>= safeTail\n",
       "Why not:\n",
       "safeTail xs"
      ]
     },
     "metadata": {},
     "output_type": "display_data"
    }
   ],
   "source": [
    "doSafeTail3x :: [a] -> Maybe [a]\n",
    "doSafeTail3x xs = do\n",
    "  t1 <- safeTail xs\n",
    "  t2 <- safeTail t1\n",
    "  t3 <- safeTail t2\n",
    "  return t3\n",
    "\n",
    "safeTail3x :: [a] -> Maybe [a]\n",
    "safeTail3x xs =\n",
    "  safeTail xs >>= \\t1 ->\n",
    "    safeTail t1 >>= \\t2 ->\n",
    "      safeTail t2 >>= \\t3 ->\n",
    "        return t3\n",
    "\n",
    "safeTail3x' :: [a] -> Maybe [a]\n",
    "safeTail3x' xs = return xs >>= safeTail >>= safeTail >>= safeTail"
   ]
  },
  {
   "cell_type": "code",
   "execution_count": 39,
   "metadata": {},
   "outputs": [
    {
     "data": {
      "text/plain": [
       "Just [4,5]"
      ]
     },
     "metadata": {},
     "output_type": "display_data"
    },
    {
     "data": {
      "text/plain": [
       "Just [4,5]"
      ]
     },
     "metadata": {},
     "output_type": "display_data"
    },
    {
     "data": {
      "text/plain": [
       "Just [4,5]"
      ]
     },
     "metadata": {},
     "output_type": "display_data"
    },
    {
     "data": {
      "text/plain": [
       "Nothing"
      ]
     },
     "metadata": {},
     "output_type": "display_data"
    },
    {
     "data": {
      "text/plain": [
       "Nothing"
      ]
     },
     "metadata": {},
     "output_type": "display_data"
    },
    {
     "data": {
      "text/plain": [
       "Nothing"
      ]
     },
     "metadata": {},
     "output_type": "display_data"
    }
   ],
   "source": [
    "doSafeTail3x [1..5]\n",
    "safeTail3x [1..5]\n",
    "safeTail3x' [1..5]\n",
    "\n",
    "doSafeTail3x [1]\n",
    "safeTail3x [1]\n",
    "safeTail3x' [1]"
   ]
  },
  {
   "cell_type": "code",
   "execution_count": 40,
   "metadata": {},
   "outputs": [],
   "source": [
    "f5 :: Int -> Int -> Int -> Int\n",
    "f5 x y z = 1000 `div` x + 100 `div` y + 10 `div` z"
   ]
  },
  {
   "cell_type": "code",
   "execution_count": 43,
   "metadata": {},
   "outputs": [
    {
     "data": {
      "text/plain": [
       "1053"
      ]
     },
     "metadata": {},
     "output_type": "display_data"
    },
    {
     "ename": "",
     "evalue": "",
     "header": "MessageHeader {mhIdentifiers = [\"d5d986cf-398c-454f-8175-8a9e04d841e3\"], mhParentHeader = Just (MessageHeader {mhIdentifiers = [\"d5d986cf-398c-454f-8175-8a9e04d841e3\"], mhParentHeader = Nothing, mhMetadata = Metadata (fromList [(\"recordTiming\",Bool False),(\"deletedCells\",Array []),(\"cellId\",String \"7a33bbd3-5ba3-40d1-9f10-9d79d5dbc272\")]), mhMessageId = UUID {uuidToString = \"9393b0c7-f513-4a46-88b1-0dc060978540\"}, mhSessionId = UUID {uuidToString = \"d5d986cf-398c-454f-8175-8a9e04d841e3\"}, mhUsername = \"\", mhMsgType = ExecuteRequestMessage, mhBuffers = []}), mhMetadata = Metadata (fromList []), mhMessageId = UUID {uuidToString = \"a889a190-aa83-4f96-b7db-6ab6007e9fc1\"}, mhSessionId = UUID {uuidToString = \"d5d986cf-398c-454f-8175-8a9e04d841e3\"}, mhUsername = \"\", mhMsgType = ExecuteErrorMessage, mhBuffers = []}",
     "output_type": "error",
     "traceback": [
      "divide by zero"
     ]
    }
   ],
   "source": [
    "f5 1 2 3\n",
    "f5 1 2 0\n",
    "f5 1 0 3\n",
    "f5 0 2 3"
   ]
  },
  {
   "cell_type": "code",
   "execution_count": 44,
   "metadata": {},
   "outputs": [
    {
     "data": {
      "text/html": [
       "<style>/* Styles used for the Hoogle display in the pager */\n",
       ".hoogle-doc {\n",
       "display: block;\n",
       "padding-bottom: 1.3em;\n",
       "padding-left: 0.4em;\n",
       "}\n",
       ".hoogle-code {\n",
       "display: block;\n",
       "font-family: monospace;\n",
       "white-space: pre;\n",
       "}\n",
       ".hoogle-text {\n",
       "display: block;\n",
       "}\n",
       ".hoogle-name {\n",
       "color: green;\n",
       "font-weight: bold;\n",
       "}\n",
       ".hoogle-head {\n",
       "font-weight: bold;\n",
       "}\n",
       ".hoogle-sub {\n",
       "display: block;\n",
       "margin-left: 0.4em;\n",
       "}\n",
       ".hoogle-package {\n",
       "font-weight: bold;\n",
       "font-style: italic;\n",
       "}\n",
       ".hoogle-module {\n",
       "font-weight: bold;\n",
       "}\n",
       ".hoogle-class {\n",
       "font-weight: bold;\n",
       "}\n",
       ".get-type {\n",
       "color: green;\n",
       "font-weight: bold;\n",
       "font-family: monospace;\n",
       "display: block;\n",
       "white-space: pre-wrap;\n",
       "}\n",
       ".show-type {\n",
       "color: green;\n",
       "font-weight: bold;\n",
       "font-family: monospace;\n",
       "margin-left: 1em;\n",
       "}\n",
       ".mono {\n",
       "font-family: monospace;\n",
       "display: block;\n",
       "}\n",
       ".err-msg {\n",
       "color: red;\n",
       "font-style: italic;\n",
       "font-family: monospace;\n",
       "white-space: pre;\n",
       "display: block;\n",
       "}\n",
       "#unshowable {\n",
       "color: red;\n",
       "font-weight: bold;\n",
       "}\n",
       ".err-msg.in.collapse {\n",
       "padding-top: 0.7em;\n",
       "}\n",
       ".highlight-code {\n",
       "white-space: pre;\n",
       "font-family: monospace;\n",
       "}\n",
       ".suggestion-warning { \n",
       "font-weight: bold;\n",
       "color: rgb(200, 130, 0);\n",
       "}\n",
       ".suggestion-error { \n",
       "font-weight: bold;\n",
       "color: red;\n",
       "}\n",
       ".suggestion-name {\n",
       "font-weight: bold;\n",
       "}\n",
       "</style><div class=\"suggestion-name\" style=\"clear:both;\">Redundant bracket</div><div class=\"suggestion-row\" style=\"float: left;\"><div class=\"suggestion-warning\">Found:</div><div class=\"highlight-code\" id=\"haskell\">case (safeDiv 1000 x) of\n",
       "    Nothing -> Nothing\n",
       "    Just (iOverX) -> case (safeDiv 100 y) of\n",
       "                         Nothing -> Nothing\n",
       "                         Just (iOverY) -> case (safeDiv 10 z) of\n",
       "                                              Nothing -> Nothing\n",
       "                                              Just (iOverZ) -> Just \\$ iOverX + iOverY + iOverZ</div></div><div class=\"suggestion-row\" style=\"float: left;\"><div class=\"suggestion-warning\">Why Not:</div><div class=\"highlight-code\" id=\"haskell\">case safeDiv 1000 x of\n",
       "    Nothing -> Nothing\n",
       "    Just (iOverX) -> case (safeDiv 100 y) of\n",
       "                         Nothing -> Nothing\n",
       "                         Just (iOverY) -> case (safeDiv 10 z) of\n",
       "                                              Nothing -> Nothing\n",
       "                                              Just (iOverZ) -> Just \\$ iOverX + iOverY + iOverZ</div></div><div class=\"suggestion-name\" style=\"clear:both;\">Redundant bracket</div><div class=\"suggestion-row\" style=\"float: left;\"><div class=\"suggestion-warning\">Found:</div><div class=\"highlight-code\" id=\"haskell\">(iOverX)</div></div><div class=\"suggestion-row\" style=\"float: left;\"><div class=\"suggestion-warning\">Why Not:</div><div class=\"highlight-code\" id=\"haskell\">iOverX</div></div><div class=\"suggestion-name\" style=\"clear:both;\">Redundant bracket</div><div class=\"suggestion-row\" style=\"float: left;\"><div class=\"suggestion-warning\">Found:</div><div class=\"highlight-code\" id=\"haskell\">case (safeDiv 100 y) of\n",
       "    Nothing -> Nothing\n",
       "    Just (iOverY) -> case (safeDiv 10 z) of\n",
       "                         Nothing -> Nothing\n",
       "                         Just (iOverZ) -> Just \\$ iOverX + iOverY + iOverZ</div></div><div class=\"suggestion-row\" style=\"float: left;\"><div class=\"suggestion-warning\">Why Not:</div><div class=\"highlight-code\" id=\"haskell\">case safeDiv 100 y of\n",
       "    Nothing -> Nothing\n",
       "    Just (iOverY) -> case (safeDiv 10 z) of\n",
       "                         Nothing -> Nothing\n",
       "                         Just (iOverZ) -> Just \\$ iOverX + iOverY + iOverZ</div></div><div class=\"suggestion-name\" style=\"clear:both;\">Redundant bracket</div><div class=\"suggestion-row\" style=\"float: left;\"><div class=\"suggestion-warning\">Found:</div><div class=\"highlight-code\" id=\"haskell\">(iOverY)</div></div><div class=\"suggestion-row\" style=\"float: left;\"><div class=\"suggestion-warning\">Why Not:</div><div class=\"highlight-code\" id=\"haskell\">iOverY</div></div><div class=\"suggestion-name\" style=\"clear:both;\">Redundant bracket</div><div class=\"suggestion-row\" style=\"float: left;\"><div class=\"suggestion-warning\">Found:</div><div class=\"highlight-code\" id=\"haskell\">case (safeDiv 10 z) of\n",
       "    Nothing -> Nothing\n",
       "    Just (iOverZ) -> Just \\$ iOverX + iOverY + iOverZ</div></div><div class=\"suggestion-row\" style=\"float: left;\"><div class=\"suggestion-warning\">Why Not:</div><div class=\"highlight-code\" id=\"haskell\">case safeDiv 10 z of\n",
       "    Nothing -> Nothing\n",
       "    Just (iOverZ) -> Just \\$ iOverX + iOverY + iOverZ</div></div><div class=\"suggestion-name\" style=\"clear:both;\">Redundant bracket</div><div class=\"suggestion-row\" style=\"float: left;\"><div class=\"suggestion-warning\">Found:</div><div class=\"highlight-code\" id=\"haskell\">(iOverZ)</div></div><div class=\"suggestion-row\" style=\"float: left;\"><div class=\"suggestion-warning\">Why Not:</div><div class=\"highlight-code\" id=\"haskell\">iOverZ</div></div>"
      ],
      "text/plain": [
       "Line 7: Redundant bracket\n",
       "Found:\n",
       "case (safeDiv 1000 x) of\n",
       "    Nothing -> Nothing\n",
       "    Just (iOverX) -> case (safeDiv 100 y) of\n",
       "                         Nothing -> Nothing\n",
       "                         Just (iOverY) -> case (safeDiv 10 z) of\n",
       "                                              Nothing -> Nothing\n",
       "                                              Just (iOverZ) -> Just $ iOverX + iOverY + iOverZ\n",
       "Why not:\n",
       "case safeDiv 1000 x of\n",
       "    Nothing -> Nothing\n",
       "    Just (iOverX) -> case (safeDiv 100 y) of\n",
       "                         Nothing -> Nothing\n",
       "                         Just (iOverY) -> case (safeDiv 10 z) of\n",
       "                                              Nothing -> Nothing\n",
       "                                              Just (iOverZ) -> Just $ iOverX + iOverY + iOverZLine 9: Redundant bracket\n",
       "Found:\n",
       "(iOverX)\n",
       "Why not:\n",
       "iOverXLine 10: Redundant bracket\n",
       "Found:\n",
       "case (safeDiv 100 y) of\n",
       "    Nothing -> Nothing\n",
       "    Just (iOverY) -> case (safeDiv 10 z) of\n",
       "                         Nothing -> Nothing\n",
       "                         Just (iOverZ) -> Just $ iOverX + iOverY + iOverZ\n",
       "Why not:\n",
       "case safeDiv 100 y of\n",
       "    Nothing -> Nothing\n",
       "    Just (iOverY) -> case (safeDiv 10 z) of\n",
       "                         Nothing -> Nothing\n",
       "                         Just (iOverZ) -> Just $ iOverX + iOverY + iOverZLine 12: Redundant bracket\n",
       "Found:\n",
       "(iOverY)\n",
       "Why not:\n",
       "iOverYLine 13: Redundant bracket\n",
       "Found:\n",
       "case (safeDiv 10 z) of\n",
       "    Nothing -> Nothing\n",
       "    Just (iOverZ) -> Just $ iOverX + iOverY + iOverZ\n",
       "Why not:\n",
       "case safeDiv 10 z of\n",
       "    Nothing -> Nothing\n",
       "    Just (iOverZ) -> Just $ iOverX + iOverY + iOverZLine 15: Redundant bracket\n",
       "Found:\n",
       "(iOverZ)\n",
       "Why not:\n",
       "iOverZ"
      ]
     },
     "metadata": {},
     "output_type": "display_data"
    }
   ],
   "source": [
    "safeDiv :: Int -> Int -> Maybe Int\n",
    "safeDiv x y | y /= 0    = Just $ x `div` y\n",
    "            | otherwise = Nothing\n",
    "\n",
    "safeF5 :: Int -> Int -> Int -> Maybe Int\n",
    "safeF5 x y z =\n",
    "  case (safeDiv 1000 x) of\n",
    "    Nothing -> Nothing\n",
    "    Just (iOverX) ->\n",
    "      case (safeDiv 100 y) of\n",
    "        Nothing -> Nothing\n",
    "        Just (iOverY) ->\n",
    "          case (safeDiv 10 z) of\n",
    "            Nothing -> Nothing\n",
    "            Just (iOverZ) -> Just $ iOverX + iOverY + iOverZ"
   ]
  },
  {
   "cell_type": "code",
   "execution_count": 45,
   "metadata": {},
   "outputs": [
    {
     "data": {
      "text/plain": [
       "Just 1053"
      ]
     },
     "metadata": {},
     "output_type": "display_data"
    },
    {
     "data": {
      "text/plain": [
       "Nothing"
      ]
     },
     "metadata": {},
     "output_type": "display_data"
    },
    {
     "data": {
      "text/plain": [
       "Nothing"
      ]
     },
     "metadata": {},
     "output_type": "display_data"
    },
    {
     "data": {
      "text/plain": [
       "Nothing"
      ]
     },
     "metadata": {},
     "output_type": "display_data"
    }
   ],
   "source": [
    "safeF5 1 2 3\n",
    "safeF5 1 2 0\n",
    "safeF5 1 0 3\n",
    "safeF5 0 2 3"
   ]
  },
  {
   "cell_type": "code",
   "execution_count": 46,
   "metadata": {},
   "outputs": [],
   "source": [
    "safeF5' :: Int -> Int -> Int -> Maybe Int\n",
    "safeF5' x y z = do\n",
    "  iOverX <- safeDiv 1000 x\n",
    "  iOverY <- safeDiv 100 y\n",
    "  iOverZ <- safeDiv 10 z\n",
    "  return $ iOverX + iOverY + iOverZ"
   ]
  },
  {
   "cell_type": "code",
   "execution_count": 47,
   "metadata": {},
   "outputs": [
    {
     "data": {
      "text/plain": [
       "Just 1053"
      ]
     },
     "metadata": {},
     "output_type": "display_data"
    },
    {
     "data": {
      "text/plain": [
       "Nothing"
      ]
     },
     "metadata": {},
     "output_type": "display_data"
    },
    {
     "data": {
      "text/plain": [
       "Nothing"
      ]
     },
     "metadata": {},
     "output_type": "display_data"
    },
    {
     "data": {
      "text/plain": [
       "Nothing"
      ]
     },
     "metadata": {},
     "output_type": "display_data"
    }
   ],
   "source": [
    "safeF5' 1 2 3\n",
    "safeF5' 1 2 0\n",
    "safeF5' 1 0 3\n",
    "safeF5' 0 2 3"
   ]
  },
  {
   "cell_type": "markdown",
   "metadata": {},
   "source": [
    "# Zadanie 2.1"
   ]
  },
  {
   "cell_type": "code",
   "execution_count": 17,
   "metadata": {},
   "outputs": [],
   "source": [
    "import Data.Maybe\n",
    "(>=>) :: Maybe a -> (a -> Maybe b) -> Maybe b\n",
    "Nothing >=> _ = Nothing\n",
    "(Just x) >=> f = f x"
   ]
  },
  {
   "cell_type": "markdown",
   "metadata": {},
   "source": [
    "# Zadanie 2.3"
   ]
  },
  {
   "cell_type": "code",
   "execution_count": 2,
   "metadata": {},
   "outputs": [],
   "source": [
    "join :: Maybe (Maybe a) -> Maybe a\n",
    "join (Just (Just a)) = Just a\n",
    "join (Just Nothing)  = Nothing\n",
    "join Nothing         = Nothing"
   ]
  },
  {
   "cell_type": "markdown",
   "metadata": {},
   "source": [
    "# Zadanie 2.2"
   ]
  },
  {
   "cell_type": "code",
   "execution_count": 6,
   "metadata": {},
   "outputs": [
    {
     "data": {},
     "metadata": {},
     "output_type": "display_data"
    },
    {
     "data": {
      "text/html": [
       "<div style='background: rgb(247, 247, 247);'><form><textarea id='code'>data Maybe a = Nothing | Just a \t-- Defined in ‘GHC.Maybe’\n",
       "instance Functor Maybe -- Defined in ‘GHC.Base’\n",
       "instance Show a => Show (Maybe a) -- Defined in ‘GHC.Show’\n",
       "instance Semigroup a => Monoid (Maybe a) -- Defined in ‘GHC.Base’\n",
       "instance Semigroup a => Semigroup (Maybe a) -- Defined in ‘GHC.Base’\n",
       "instance Eq a => Eq (Maybe a) -- Defined in ‘GHC.Maybe’\n",
       "instance Ord a => Ord (Maybe a) -- Defined in ‘GHC.Maybe’\n",
       "instance Read a => Read (Maybe a) -- Defined in ‘GHC.Read’\n",
       "instance Applicative Maybe -- Defined in ‘GHC.Base’\n",
       "instance Monad Maybe -- Defined in ‘GHC.Base’\n",
       "instance Foldable Maybe -- Defined in ‘Data.Foldable’\n",
       "instance Traversable Maybe -- Defined in ‘Data.Traversable’\n",
       "</textarea></form></div><script>CodeMirror.fromTextArea(document.getElementById('code'), {mode: 'haskell', readOnly: 'nocursor'});</script>"
      ],
      "text/plain": [
       "data Maybe a = Nothing | Just a \t-- Defined in ‘GHC.Maybe’\n",
       "instance Functor Maybe -- Defined in ‘GHC.Base’\n",
       "instance Show a => Show (Maybe a) -- Defined in ‘GHC.Show’\n",
       "instance Semigroup a => Monoid (Maybe a) -- Defined in ‘GHC.Base’\n",
       "instance Semigroup a => Semigroup (Maybe a) -- Defined in ‘GHC.Base’\n",
       "instance Eq a => Eq (Maybe a) -- Defined in ‘GHC.Maybe’\n",
       "instance Ord a => Ord (Maybe a) -- Defined in ‘GHC.Maybe’\n",
       "instance Read a => Read (Maybe a) -- Defined in ‘GHC.Read’\n",
       "instance Applicative Maybe -- Defined in ‘GHC.Base’\n",
       "instance Monad Maybe -- Defined in ‘GHC.Base’\n",
       "instance Foldable Maybe -- Defined in ‘Data.Foldable’\n",
       "instance Traversable Maybe -- Defined in ‘Data.Traversable’"
      ]
     },
     "metadata": {},
     "output_type": "display_data"
    }
   ],
   "source": [
    "import Data.Maybe\n",
    ":i Maybe"
   ]
  },
  {
   "cell_type": "code",
   "execution_count": 18,
   "metadata": {},
   "outputs": [
    {
     "data": {},
     "metadata": {},
     "output_type": "display_data"
    },
    {
     "data": {
      "text/plain": [
       "[1,2,3]"
      ]
     },
     "metadata": {},
     "output_type": "display_data"
    },
    {
     "data": {
      "text/plain": [
       "[1,2,3]"
      ]
     },
     "metadata": {},
     "output_type": "display_data"
    },
    {
     "data": {
      "text/html": [
       "<div style='background: rgb(247, 247, 247);'><form><textarea id='code'>data [] a = [] | a : [a] \t-- Defined in ‘GHC.Types’\n",
       "instance IHaskellDisplay a => IHaskellDisplay [a] -- Defined in ‘IHaskell.Types’\n",
       "instance Functor [] -- Defined in ‘GHC.Base’\n",
       "instance Show a => Show [a] -- Defined in ‘GHC.Show’\n",
       "instance Monoid [a] -- Defined in ‘GHC.Base’\n",
       "instance Semigroup [a] -- Defined in ‘GHC.Base’\n",
       "instance Eq a => Eq [a] -- Defined in ‘GHC.Classes’\n",
       "instance Ord a => Ord [a] -- Defined in ‘GHC.Classes’\n",
       "instance Read a => Read [a] -- Defined in ‘GHC.Read’\n",
       "instance Applicative [] -- Defined in ‘GHC.Base’\n",
       "instance Monad [] -- Defined in ‘GHC.Base’\n",
       "instance Foldable [] -- Defined in ‘Data.Foldable’\n",
       "instance Traversable [] -- Defined in ‘Data.Traversable’\n",
       "</textarea></form></div><script>CodeMirror.fromTextArea(document.getElementById('code'), {mode: 'haskell', readOnly: 'nocursor'});</script>"
      ],
      "text/plain": [
       "data [] a = [] | a : [a] \t-- Defined in ‘GHC.Types’\n",
       "instance IHaskellDisplay a => IHaskellDisplay [a] -- Defined in ‘IHaskell.Types’\n",
       "instance Functor [] -- Defined in ‘GHC.Base’\n",
       "instance Show a => Show [a] -- Defined in ‘GHC.Show’\n",
       "instance Monoid [a] -- Defined in ‘GHC.Base’\n",
       "instance Semigroup [a] -- Defined in ‘GHC.Base’\n",
       "instance Eq a => Eq [a] -- Defined in ‘GHC.Classes’\n",
       "instance Ord a => Ord [a] -- Defined in ‘GHC.Classes’\n",
       "instance Read a => Read [a] -- Defined in ‘GHC.Read’\n",
       "instance Applicative [] -- Defined in ‘GHC.Base’\n",
       "instance Monad [] -- Defined in ‘GHC.Base’\n",
       "instance Foldable [] -- Defined in ‘Data.Foldable’\n",
       "instance Traversable [] -- Defined in ‘Data.Traversable’"
      ]
     },
     "metadata": {},
     "output_type": "display_data"
    }
   ],
   "source": [
    ":i []\n",
    "\n",
    "[1,2,3] :: [Int]\n",
    "[1,2,3] :: [] Int"
   ]
  },
  {
   "cell_type": "code",
   "execution_count": 19,
   "metadata": {},
   "outputs": [
    {
     "data": {
      "text/plain": [
       "[1]"
      ]
     },
     "metadata": {},
     "output_type": "display_data"
    },
    {
     "data": {
      "text/plain": [
       "[1,2,3]"
      ]
     },
     "metadata": {},
     "output_type": "display_data"
    },
    {
     "data": {
      "text/plain": [
       "[-1,1,-2,2]"
      ]
     },
     "metadata": {},
     "output_type": "display_data"
    },
    {
     "data": {
      "text/plain": [
       "[-1,0,1,-2,-1,0,1,2,-3,-2,-1,0,1,2,3]"
      ]
     },
     "metadata": {},
     "output_type": "display_data"
    },
    {
     "data": {
      "text/plain": [
       "[1,-1,-1,1,2,-2,-2,2]"
      ]
     },
     "metadata": {},
     "output_type": "display_data"
    },
    {
     "data": {
      "text/plain": [
       "[1,-1,-1,1,2,-2,-2,2]"
      ]
     },
     "metadata": {},
     "output_type": "display_data"
    },
    {
     "data": {
      "text/plain": [
       "[(1,-1),(1,1),(2,-2),(2,2)]"
      ]
     },
     "metadata": {},
     "output_type": "display_data"
    }
   ],
   "source": [
    "return 1 :: [] Int\n",
    "return 3 >>= (\\x -> [1..x])\n",
    "[1,2] >>= (\\x -> [-x,x])\n",
    "[1,2,3] >>= (\\x -> [-x..x])\n",
    "\n",
    "[1,2] >>= (\\x -> [-x,x]) >>= (\\y -> [-y,y])\n",
    "[1,2] >>= \\x -> [-x,x] >>= \\y -> [-y,y]\n",
    "[1,2] >>= \\x -> [-x,x] >>= \\y -> return (x,y)"
   ]
  },
  {
   "cell_type": "code",
   "execution_count": 20,
   "metadata": {},
   "outputs": [],
   "source": [
    "xs1 :: [(Int,Int,Int)]\n",
    "xs1 = [ (x,y,z) | let xs = [1,2], x <- xs, y <- xs, z <- xs ]\n",
    "\n",
    "doXs1 :: [(Int,Int,Int)]\n",
    "doXs1 = do\n",
    "  let xs = [1,2]\n",
    "  x <- xs\n",
    "  y <- xs\n",
    "  z <- xs\n",
    "  return (x,y,z)"
   ]
  },
  {
   "cell_type": "code",
   "execution_count": 21,
   "metadata": {},
   "outputs": [
    {
     "data": {
      "text/plain": [
       "[(1,1,1),(1,1,2),(1,2,1),(1,2,2),(2,1,1),(2,1,2),(2,2,1),(2,2,2)]"
      ]
     },
     "metadata": {},
     "output_type": "display_data"
    },
    {
     "data": {
      "text/plain": [
       "[(1,1,1),(1,1,2),(1,2,1),(1,2,2),(2,1,1),(2,1,2),(2,2,1),(2,2,2)]"
      ]
     },
     "metadata": {},
     "output_type": "display_data"
    },
    {
     "data": {
      "text/plain": [
       "True"
      ]
     },
     "metadata": {},
     "output_type": "display_data"
    }
   ],
   "source": [
    "xs1\n",
    "doXs1\n",
    "xs1 == doXs1"
   ]
  },
  {
   "cell_type": "code",
   "execution_count": 23,
   "metadata": {},
   "outputs": [
    {
     "data": {
      "text/html": [
       "<style>/* Styles used for the Hoogle display in the pager */\n",
       ".hoogle-doc {\n",
       "display: block;\n",
       "padding-bottom: 1.3em;\n",
       "padding-left: 0.4em;\n",
       "}\n",
       ".hoogle-code {\n",
       "display: block;\n",
       "font-family: monospace;\n",
       "white-space: pre;\n",
       "}\n",
       ".hoogle-text {\n",
       "display: block;\n",
       "}\n",
       ".hoogle-name {\n",
       "color: green;\n",
       "font-weight: bold;\n",
       "}\n",
       ".hoogle-head {\n",
       "font-weight: bold;\n",
       "}\n",
       ".hoogle-sub {\n",
       "display: block;\n",
       "margin-left: 0.4em;\n",
       "}\n",
       ".hoogle-package {\n",
       "font-weight: bold;\n",
       "font-style: italic;\n",
       "}\n",
       ".hoogle-module {\n",
       "font-weight: bold;\n",
       "}\n",
       ".hoogle-class {\n",
       "font-weight: bold;\n",
       "}\n",
       ".get-type {\n",
       "color: green;\n",
       "font-weight: bold;\n",
       "font-family: monospace;\n",
       "display: block;\n",
       "white-space: pre-wrap;\n",
       "}\n",
       ".show-type {\n",
       "color: green;\n",
       "font-weight: bold;\n",
       "font-family: monospace;\n",
       "margin-left: 1em;\n",
       "}\n",
       ".mono {\n",
       "font-family: monospace;\n",
       "display: block;\n",
       "}\n",
       ".err-msg {\n",
       "color: red;\n",
       "font-style: italic;\n",
       "font-family: monospace;\n",
       "white-space: pre;\n",
       "display: block;\n",
       "}\n",
       "#unshowable {\n",
       "color: red;\n",
       "font-weight: bold;\n",
       "}\n",
       ".err-msg.in.collapse {\n",
       "padding-top: 0.7em;\n",
       "}\n",
       ".highlight-code {\n",
       "white-space: pre;\n",
       "font-family: monospace;\n",
       "}\n",
       ".suggestion-warning { \n",
       "font-weight: bold;\n",
       "color: rgb(200, 130, 0);\n",
       "}\n",
       ".suggestion-error { \n",
       "font-weight: bold;\n",
       "color: red;\n",
       "}\n",
       ".suggestion-name {\n",
       "font-weight: bold;\n",
       "}\n",
       "</style><div class=\"suggestion-name\" style=\"clear:both;\">Reduce duplication</div><div class=\"suggestion-row\" style=\"float: left;\"><div class=\"suggestion-warning\">Found:</div><div class=\"highlight-code\" id=\"haskell\">let xs = [1 .. 3]\n",
       "x <- xs\n",
       "y <- xs\n",
       "z <- xs\n",
       "</div></div><div class=\"suggestion-row\" style=\"float: left;\"><div class=\"suggestion-warning\">Why Not:</div><div class=\"highlight-code\" id=\"haskell\">Combine with -:16:3</div></div>"
      ],
      "text/plain": [
       "Line 7: Reduce duplication\n",
       "Found:\n",
       "let xs = [1 .. 3]\n",
       "x <- xs\n",
       "y <- xs\n",
       "z <- xs\n",
       "\n",
       "Why not:\n",
       "Combine with -:16:3"
      ]
     },
     "metadata": {},
     "output_type": "display_data"
    }
   ],
   "source": [
    "import Control.Monad\n",
    "xs2 :: [(Int,Int,Int)]\n",
    "xs2 = [ (x,y,z) | let xs = [1..3], x <- xs, y <- xs, z <- xs, x > y && y > z ]\n",
    "\n",
    "doXs2 :: [(Int,Int,Int)]\n",
    "doXs2 = do\n",
    "  let xs = [1..3]\n",
    "  x <- xs\n",
    "  y <- xs\n",
    "  z <- xs\n",
    "  guard $ x > y && y > z\n",
    "  return (x,y,z)\n",
    "\n",
    "doXs2' :: [(Int,Int,Int)]\n",
    "doXs2' = do\n",
    "  let xs = [1..3]\n",
    "  x <- xs\n",
    "  y <- xs\n",
    "  z <- xs\n",
    "  if x > y && y > z\n",
    "    then return (x,y,z)\n",
    "    else []"
   ]
  },
  {
   "cell_type": "code",
   "execution_count": 24,
   "metadata": {},
   "outputs": [
    {
     "data": {
      "text/html": [
       "<style>/* Styles used for the Hoogle display in the pager */\n",
       ".hoogle-doc {\n",
       "display: block;\n",
       "padding-bottom: 1.3em;\n",
       "padding-left: 0.4em;\n",
       "}\n",
       ".hoogle-code {\n",
       "display: block;\n",
       "font-family: monospace;\n",
       "white-space: pre;\n",
       "}\n",
       ".hoogle-text {\n",
       "display: block;\n",
       "}\n",
       ".hoogle-name {\n",
       "color: green;\n",
       "font-weight: bold;\n",
       "}\n",
       ".hoogle-head {\n",
       "font-weight: bold;\n",
       "}\n",
       ".hoogle-sub {\n",
       "display: block;\n",
       "margin-left: 0.4em;\n",
       "}\n",
       ".hoogle-package {\n",
       "font-weight: bold;\n",
       "font-style: italic;\n",
       "}\n",
       ".hoogle-module {\n",
       "font-weight: bold;\n",
       "}\n",
       ".hoogle-class {\n",
       "font-weight: bold;\n",
       "}\n",
       ".get-type {\n",
       "color: green;\n",
       "font-weight: bold;\n",
       "font-family: monospace;\n",
       "display: block;\n",
       "white-space: pre-wrap;\n",
       "}\n",
       ".show-type {\n",
       "color: green;\n",
       "font-weight: bold;\n",
       "font-family: monospace;\n",
       "margin-left: 1em;\n",
       "}\n",
       ".mono {\n",
       "font-family: monospace;\n",
       "display: block;\n",
       "}\n",
       ".err-msg {\n",
       "color: red;\n",
       "font-style: italic;\n",
       "font-family: monospace;\n",
       "white-space: pre;\n",
       "display: block;\n",
       "}\n",
       "#unshowable {\n",
       "color: red;\n",
       "font-weight: bold;\n",
       "}\n",
       ".err-msg.in.collapse {\n",
       "padding-top: 0.7em;\n",
       "}\n",
       ".highlight-code {\n",
       "white-space: pre;\n",
       "font-family: monospace;\n",
       "}\n",
       ".suggestion-warning { \n",
       "font-weight: bold;\n",
       "color: rgb(200, 130, 0);\n",
       "}\n",
       ".suggestion-error { \n",
       "font-weight: bold;\n",
       "color: red;\n",
       "}\n",
       ".suggestion-name {\n",
       "font-weight: bold;\n",
       "}\n",
       "</style><span class='get-type'>guard :: forall (f :: * -> *). Alternative f => Bool -> f ()</span>"
      ],
      "text/plain": [
       "guard :: forall (f :: * -> *). Alternative f => Bool -> f ()"
      ]
     },
     "metadata": {},
     "output_type": "display_data"
    },
    {
     "data": {
      "text/plain": [
       "[2,4,6,8,10]"
      ]
     },
     "metadata": {},
     "output_type": "display_data"
    },
    {
     "data": {
      "text/plain": [
       "[(2,()),(4,()),(6,()),(8,()),(10,())]"
      ]
     },
     "metadata": {},
     "output_type": "display_data"
    },
    {
     "data": {
      "text/plain": [
       "[1,2,3,4,5,6,7,8,9,10]"
      ]
     },
     "metadata": {},
     "output_type": "display_data"
    },
    {
     "data": {
      "text/plain": [
       "[1,2,3,4,5,6,7,8,9,10]"
      ]
     },
     "metadata": {},
     "output_type": "display_data"
    }
   ],
   "source": [
    ":t guard\n",
    "[1..10] >>= \\x -> guard (even x) >> return x\n",
    "[1..10] >>= \\x -> guard (even x) >>= \\y -> return (x,y)\n",
    "\n",
    "[1..10] >>= \\x -> return x\n",
    "[1..10] >>= return"
   ]
  },
  {
   "cell_type": "markdown",
   "metadata": {},
   "source": [
    "# Zadanie 4.2"
   ]
  },
  {
   "cell_type": "code",
   "execution_count": 32,
   "metadata": {},
   "outputs": [
    {
     "data": {
      "text/html": [
       "<style>/* Styles used for the Hoogle display in the pager */\n",
       ".hoogle-doc {\n",
       "display: block;\n",
       "padding-bottom: 1.3em;\n",
       "padding-left: 0.4em;\n",
       "}\n",
       ".hoogle-code {\n",
       "display: block;\n",
       "font-family: monospace;\n",
       "white-space: pre;\n",
       "}\n",
       ".hoogle-text {\n",
       "display: block;\n",
       "}\n",
       ".hoogle-name {\n",
       "color: green;\n",
       "font-weight: bold;\n",
       "}\n",
       ".hoogle-head {\n",
       "font-weight: bold;\n",
       "}\n",
       ".hoogle-sub {\n",
       "display: block;\n",
       "margin-left: 0.4em;\n",
       "}\n",
       ".hoogle-package {\n",
       "font-weight: bold;\n",
       "font-style: italic;\n",
       "}\n",
       ".hoogle-module {\n",
       "font-weight: bold;\n",
       "}\n",
       ".hoogle-class {\n",
       "font-weight: bold;\n",
       "}\n",
       ".get-type {\n",
       "color: green;\n",
       "font-weight: bold;\n",
       "font-family: monospace;\n",
       "display: block;\n",
       "white-space: pre-wrap;\n",
       "}\n",
       ".show-type {\n",
       "color: green;\n",
       "font-weight: bold;\n",
       "font-family: monospace;\n",
       "margin-left: 1em;\n",
       "}\n",
       ".mono {\n",
       "font-family: monospace;\n",
       "display: block;\n",
       "}\n",
       ".err-msg {\n",
       "color: red;\n",
       "font-style: italic;\n",
       "font-family: monospace;\n",
       "white-space: pre;\n",
       "display: block;\n",
       "}\n",
       "#unshowable {\n",
       "color: red;\n",
       "font-weight: bold;\n",
       "}\n",
       ".err-msg.in.collapse {\n",
       "padding-top: 0.7em;\n",
       "}\n",
       ".highlight-code {\n",
       "white-space: pre;\n",
       "font-family: monospace;\n",
       "}\n",
       ".suggestion-warning { \n",
       "font-weight: bold;\n",
       "color: rgb(200, 130, 0);\n",
       "}\n",
       ".suggestion-error { \n",
       "font-weight: bold;\n",
       "color: red;\n",
       "}\n",
       ".suggestion-name {\n",
       "font-weight: bold;\n",
       "}\n",
       "</style><div class=\"suggestion-name\" style=\"clear:both;\">Eta reduce</div><div class=\"suggestion-row\" style=\"float: left;\"><div class=\"suggestion-warning\">Found:</div><div class=\"highlight-code\" id=\"haskell\">join xss = foldr (++) [] xss</div></div><div class=\"suggestion-row\" style=\"float: left;\"><div class=\"suggestion-warning\">Why Not:</div><div class=\"highlight-code\" id=\"haskell\">join = foldr (++) []</div></div><div class=\"suggestion-name\" style=\"clear:both;\">Use concat</div><div class=\"suggestion-row\" style=\"float: left;\"><div class=\"suggestion-warning\">Found:</div><div class=\"highlight-code\" id=\"haskell\">foldr (++) []</div></div><div class=\"suggestion-row\" style=\"float: left;\"><div class=\"suggestion-warning\">Why Not:</div><div class=\"highlight-code\" id=\"haskell\">concat</div></div>"
      ],
      "text/plain": [
       "Line 2: Eta reduce\n",
       "Found:\n",
       "join xss = foldr (++) [] xss\n",
       "Why not:\n",
       "join = foldr (++) []Line 2: Use concat\n",
       "Found:\n",
       "foldr (++) []\n",
       "Why not:\n",
       "concat"
      ]
     },
     "metadata": {},
     "output_type": "display_data"
    }
   ],
   "source": [
    "join :: [[a]] -> [a]\n",
    "join xss = foldr (++) [] xss"
   ]
  },
  {
   "cell_type": "markdown",
   "metadata": {},
   "source": [
    "# Zadanie 4.1"
   ]
  },
  {
   "cell_type": "markdown",
   "metadata": {},
   "source": [
    "Dostępne metody w ramach implementacji Monad []\n",
    "\n",
    "fmap :: (a -> b) -> [a] -> [b]\n",
    "\n",
    "(<$) :: a -> [b] -> [a]"
   ]
  },
  {
   "cell_type": "code",
   "execution_count": null,
   "metadata": {},
   "outputs": [],
   "source": []
  }
 ],
 "metadata": {
  "kernelspec": {
   "display_name": "Haskell",
   "language": "haskell",
   "name": "haskell"
  },
  "language_info": {
   "codemirror_mode": "ihaskell",
   "file_extension": ".hs",
   "name": "haskell",
   "pygments_lexer": "Haskell",
   "version": "8.6.5"
  }
 },
 "nbformat": 4,
 "nbformat_minor": 4
}
